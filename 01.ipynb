{
  "nbformat": 4,
  "nbformat_minor": 0,
  "metadata": {
    "colab": {
      "name": "01.ipynb",
      "version": "0.3.2",
      "provenance": [],
      "collapsed_sections": [
        "0jR_aaIkuY5q",
        "AP2OEYpruY6C",
        "0G-mouh8uY6T",
        "NlHAgbybuY62",
        "2Aw51BjouY7L",
        "waO5SXEtuY7a",
        "EvMEHEnRuY7l",
        "fEjtMqNVuY73",
        "LtG6tFxWuY8C"
      ],
      "toc_visible": true,
      "include_colab_link": true
    },
    "language_info": {
      "codemirror_mode": {
        "name": "ipython",
        "version": 3
      },
      "file_extension": ".py",
      "mimetype": "text/x-python",
      "name": "python",
      "nbconvert_exporter": "python",
      "pygments_lexer": "ipython3",
      "version": "3.6.7"
    },
    "kernelspec": {
      "display_name": "Python 3",
      "language": "python",
      "name": "python3"
    }
  },
  "cells": [
    {
      "cell_type": "markdown",
      "metadata": {
        "id": "view-in-github",
        "colab_type": "text"
      },
      "source": [
        "<a href=\"https://colab.research.google.com/github/davicfg/UFRN-PC-2019.1/blob/master/01.ipynb\" target=\"_parent\"><img src=\"https://colab.research.google.com/assets/colab-badge.svg\" alt=\"Open In Colab\"/></a>"
      ]
    },
    {
      "cell_type": "markdown",
      "metadata": {
        "id": "QVukB7_zuY5A",
        "colab_type": "text"
      },
      "source": [
        "# Primeiros passos\n",
        "\n",
        "O interpretador Python é um cara legal que gosta de conversar, mas ele é um pouco repetitivo..\n",
        "\n",
        "Os notebooks Jupyter se comunicam com o interpretador, mandando suas mensagens e mostrando as resposta que ele dá. \n",
        "\n",
        "Clique no botão de Play para executar a célula abaixo (ou selecione a célula e aperte Shift+Enter)."
      ]
    },
    {
      "cell_type": "code",
      "metadata": {
        "id": "6xDLa1KVuY5D",
        "colab_type": "code",
        "outputId": "c9adedc4-28fa-49a4-ef99-cca741dfb56d",
        "colab": {
          "base_uri": "https://localhost:8080/",
          "height": 34
        }
      },
      "source": [
        "\"Oi Python!\"\n"
      ],
      "execution_count": 0,
      "outputs": [
        {
          "output_type": "execute_result",
          "data": {
            "text/plain": [
              "'Oi Python!'"
            ]
          },
          "metadata": {
            "tags": []
          },
          "execution_count": 1
        }
      ]
    },
    {
      "cell_type": "markdown",
      "metadata": {
        "id": "J2cU_4ifuY5I",
        "colab_type": "text"
      },
      "source": [
        "## Melhorando a conversa com o interpretador\n",
        "\n",
        ">Se o interpretador apenas repete o que eu falo, pra que ele serve? 🤔\n",
        ">*, perguntou um aluno apressado.*\n",
        "\n",
        "O interpretador é mais sagaz do que parece. Teste as células abaixo:"
      ]
    },
    {
      "cell_type": "code",
      "metadata": {
        "id": "VQvp6h-yuY5J",
        "colab_type": "code",
        "outputId": "baecd993-50cc-494b-9681-d857e6d9a587",
        "colab": {
          "base_uri": "https://localhost:8080/",
          "height": 34
        }
      },
      "source": [
        "\"Oi Python!\".upper()"
      ],
      "execution_count": 0,
      "outputs": [
        {
          "output_type": "execute_result",
          "data": {
            "text/plain": [
              "'OI PYTHON!'"
            ]
          },
          "metadata": {
            "tags": []
          },
          "execution_count": 2
        }
      ]
    },
    {
      "cell_type": "code",
      "metadata": {
        "scrolled": true,
        "id": "IhQi-0AfuY5N",
        "colab_type": "code",
        "outputId": "2d0bdb90-a176-40f0-dfc9-bab5a4b6d2e0",
        "colab": {
          "base_uri": "https://localhost:8080/",
          "height": 34
        }
      },
      "source": [
        "\"Oi Python!\".lower()"
      ],
      "execution_count": 0,
      "outputs": [
        {
          "output_type": "execute_result",
          "data": {
            "text/plain": [
              "'oi python!'"
            ]
          },
          "metadata": {
            "tags": []
          },
          "execution_count": 4
        }
      ]
    },
    {
      "cell_type": "code",
      "metadata": {
        "id": "9x7a3DoZuY5R",
        "colab_type": "code",
        "outputId": "1b12dd6d-b07f-400a-b3f0-fe8d0c124aad",
        "colab": {
          "base_uri": "https://localhost:8080/",
          "height": 34
        }
      },
      "source": [
        "\"Oi Python!\" + \" Tudo bom?\""
      ],
      "execution_count": 0,
      "outputs": [
        {
          "output_type": "execute_result",
          "data": {
            "text/plain": [
              "'Oi Python! Tudo bom?'"
            ]
          },
          "metadata": {
            "tags": []
          },
          "execution_count": 5
        }
      ]
    },
    {
      "cell_type": "code",
      "metadata": {
        "id": "fjedvgjBuY5U",
        "colab_type": "code",
        "outputId": "1e8354b0-62e6-4adc-f0f2-828c9c157a21",
        "colab": {
          "base_uri": "https://localhost:8080/",
          "height": 34
        }
      },
      "source": [
        "\"Oi Python!\".split()"
      ],
      "execution_count": 0,
      "outputs": [
        {
          "output_type": "execute_result",
          "data": {
            "text/plain": [
              "['Oi', 'Python!']"
            ]
          },
          "metadata": {
            "tags": []
          },
          "execution_count": 6
        }
      ]
    },
    {
      "cell_type": "markdown",
      "metadata": {
        "id": "Br027n4LuY5X",
        "colab_type": "text"
      },
      "source": [
        "### Exercícios de fixação"
      ]
    },
    {
      "cell_type": "markdown",
      "metadata": {
        "id": "O6n_dH5TuY5Y",
        "colab_type": "text"
      },
      "source": [
        "EF1 - Peça pra o interpretador dizer **\"Bom dia\"** com letras minúsculas. "
      ]
    },
    {
      "cell_type": "code",
      "metadata": {
        "id": "j0I3_3cTuY5Z",
        "colab_type": "code",
        "outputId": "3c329dc1-0167-4fda-e3b8-89a1a203323d",
        "colab": {
          "base_uri": "https://localhost:8080/",
          "height": 34
        }
      },
      "source": [
        "\"Bom dia\".upper()"
      ],
      "execution_count": 0,
      "outputs": [
        {
          "output_type": "execute_result",
          "data": {
            "text/plain": [
              "'BOM DIA'"
            ]
          },
          "metadata": {
            "tags": []
          },
          "execution_count": 8
        }
      ]
    },
    {
      "cell_type": "markdown",
      "metadata": {
        "id": "yR8SGrLpuY5c",
        "colab_type": "text"
      },
      "source": [
        "EF2 - Peça pra o interpretador dizer **\"Boa tarde\"** com letras maiúsculas. "
      ]
    },
    {
      "cell_type": "code",
      "metadata": {
        "id": "P5SZiE4quY5d",
        "colab_type": "code",
        "outputId": "f8fa08f0-e9e1-415e-fbb8-871aca486338",
        "colab": {
          "base_uri": "https://localhost:8080/",
          "height": 34
        }
      },
      "source": [
        "\"Boa tarde\".lower()"
      ],
      "execution_count": 0,
      "outputs": [
        {
          "output_type": "execute_result",
          "data": {
            "text/plain": [
              "'boa tarde'"
            ]
          },
          "metadata": {
            "tags": []
          },
          "execution_count": 9
        }
      ]
    },
    {
      "cell_type": "markdown",
      "metadata": {
        "id": "Agn7WnFTuY5h",
        "colab_type": "text"
      },
      "source": [
        "EF3 - Peça pra o interpretador dizer **\"Bom dia ou Boa tarde?\"**, sendo o **\"Bom dia\"** com letras maiúsculas e o **\"boa tarde\"** com letras minúsculas. "
      ]
    },
    {
      "cell_type": "code",
      "metadata": {
        "id": "vt5eOumbuY5i",
        "colab_type": "code",
        "outputId": "d55106a1-05c9-424d-fbe5-184d06d149f9",
        "colab": {
          "base_uri": "https://localhost:8080/",
          "height": 34
        }
      },
      "source": [
        "\"Bom dia\".upper()+\" ou \"+\"Boa tarde?\".lower()"
      ],
      "execution_count": 0,
      "outputs": [
        {
          "output_type": "execute_result",
          "data": {
            "text/plain": [
              "'BOM DIA ou boa tarde?'"
            ]
          },
          "metadata": {
            "tags": []
          },
          "execution_count": 25
        }
      ]
    },
    {
      "cell_type": "markdown",
      "metadata": {
        "id": "bFaFhg22uY5m",
        "colab_type": "text"
      },
      "source": [
        "### Exercícios complementares"
      ]
    },
    {
      "cell_type": "markdown",
      "metadata": {
        "id": "LKOHsPw_uY5n",
        "colab_type": "text"
      },
      "source": [
        "EC1 - O que você acha que a opção `split()` significa para o interpretador? Dica -- pesquise no Google Translate."
      ]
    },
    {
      "cell_type": "markdown",
      "metadata": {
        "id": "mbgIec40uY5o",
        "colab_type": "text"
      },
      "source": [
        "Dividir algo."
      ]
    },
    {
      "cell_type": "markdown",
      "metadata": {
        "id": "XiFyB_QNuY5p",
        "colab_type": "text"
      },
      "source": [
        "A gente vai estudar o `split` com mais calma depois, mas por enquanto vamos ver um pouco sobre números."
      ]
    },
    {
      "cell_type": "markdown",
      "metadata": {
        "id": "0jR_aaIkuY5q",
        "colab_type": "text"
      },
      "source": [
        "## Trabalhando com números\n",
        "\n",
        "O interpretador Python também consegue lidar com números e operadores aritméticos, que podem ser usados para construir **expressões aritméticas**. \n",
        "\n",
        "As regras básicas sobre expressões aritméticas em Python são:\n",
        "\n",
        "* Em geral, a precedência dos operadores em Python segue a precedência que conhecemos da matemática. \n",
        "* Assim como na matemática, é possível usar parênteses para mudar a ordem de avaliação de uma expressão.\n",
        "* Caso reste apenas operações de mesma precedência, a expressão passa a ser avaliada da esquerda para a direita.\n",
        "\n",
        "Alguns dos operadores aritméticos disponíveis em Python estão listados abaixo. "
      ]
    },
    {
      "cell_type": "markdown",
      "metadata": {
        "id": "XuJpi4w2uY5r",
        "colab_type": "text"
      },
      "source": [
        "| Símbolo | Operação |\n",
        "|:----:|---|\n",
        "| +  | Adição |\n",
        "| -  | Subtração |\n",
        "| /  | Divisão |\n",
        "| // | Divisão inteira |\n",
        "| %  | Resto |\n",
        "| *  | Multiplicação |\n",
        "| **  | Exponenciação |"
      ]
    },
    {
      "cell_type": "markdown",
      "metadata": {
        "id": "AE_rfBmruY5s",
        "colab_type": "text"
      },
      "source": [
        "Teste as células abaixo:"
      ]
    },
    {
      "cell_type": "code",
      "metadata": {
        "id": "j2Ia1BGnuY5t",
        "colab_type": "code",
        "outputId": "292a3aab-be59-4d85-d37d-1422a847755f",
        "colab": {
          "base_uri": "https://localhost:8080/",
          "height": 34
        }
      },
      "source": [
        "1+2+5"
      ],
      "execution_count": 0,
      "outputs": [
        {
          "output_type": "execute_result",
          "data": {
            "text/plain": [
              "8"
            ]
          },
          "metadata": {
            "tags": []
          },
          "execution_count": 15
        }
      ]
    },
    {
      "cell_type": "code",
      "metadata": {
        "id": "t0Vl6OJYuY5w",
        "colab_type": "code",
        "outputId": "4287a957-e540-49bf-b408-6275ec0f8b11",
        "colab": {
          "base_uri": "https://localhost:8080/",
          "height": 34
        }
      },
      "source": [
        "2-1"
      ],
      "execution_count": 0,
      "outputs": [
        {
          "output_type": "execute_result",
          "data": {
            "text/plain": [
              "1"
            ]
          },
          "metadata": {
            "tags": []
          },
          "execution_count": 16
        }
      ]
    },
    {
      "cell_type": "code",
      "metadata": {
        "id": "dHKplRgUuY5z",
        "colab_type": "code",
        "outputId": "a0cae51e-b7d9-4678-ace5-924e52db29f5",
        "colab": {
          "base_uri": "https://localhost:8080/",
          "height": 34
        }
      },
      "source": [
        "1*2"
      ],
      "execution_count": 0,
      "outputs": [
        {
          "output_type": "execute_result",
          "data": {
            "text/plain": [
              "2"
            ]
          },
          "metadata": {
            "tags": []
          },
          "execution_count": 17
        }
      ]
    },
    {
      "cell_type": "code",
      "metadata": {
        "scrolled": true,
        "id": "R-iu8uLsuY52",
        "colab_type": "code",
        "outputId": "191ae67d-4795-4e42-9e74-9addd142a3e9",
        "colab": {
          "base_uri": "https://localhost:8080/",
          "height": 34
        }
      },
      "source": [
        "3/4"
      ],
      "execution_count": 0,
      "outputs": [
        {
          "output_type": "execute_result",
          "data": {
            "text/plain": [
              "0.75"
            ]
          },
          "metadata": {
            "tags": []
          },
          "execution_count": 18
        }
      ]
    },
    {
      "cell_type": "code",
      "metadata": {
        "id": "kGe9COk_uY55",
        "colab_type": "code",
        "outputId": "9101c16a-59ed-4f7c-d21c-136f09587f2e",
        "colab": {
          "base_uri": "https://localhost:8080/",
          "height": 34
        }
      },
      "source": [
        "2 ** 3"
      ],
      "execution_count": 0,
      "outputs": [
        {
          "output_type": "execute_result",
          "data": {
            "text/plain": [
              "8"
            ]
          },
          "metadata": {
            "tags": []
          },
          "execution_count": 19
        }
      ]
    },
    {
      "cell_type": "markdown",
      "metadata": {
        "id": "1eH1jnoNuY59",
        "colab_type": "text"
      },
      "source": [
        "No entanto, você não deve misturar textos e números:"
      ]
    },
    {
      "cell_type": "code",
      "metadata": {
        "scrolled": true,
        "id": "7_epw5_-uY5-",
        "colab_type": "code",
        "outputId": "d2750a1c-409c-45e9-c2fe-2cde32655c22",
        "colab": {
          "base_uri": "https://localhost:8080/",
          "height": 163
        }
      },
      "source": [
        "\"Este é um texto\" + 3"
      ],
      "execution_count": 0,
      "outputs": [
        {
          "output_type": "error",
          "ename": "TypeError",
          "evalue": "ignored",
          "traceback": [
            "\u001b[0;31m---------------------------------------------------------------------------\u001b[0m",
            "\u001b[0;31mTypeError\u001b[0m                                 Traceback (most recent call last)",
            "\u001b[0;32m<ipython-input-20-85e4d6029825>\u001b[0m in \u001b[0;36m<module>\u001b[0;34m()\u001b[0m\n\u001b[0;32m----> 1\u001b[0;31m \u001b[0;34m\"Este é um texto\"\u001b[0m \u001b[0;34m+\u001b[0m \u001b[0;36m3\u001b[0m\u001b[0;34m\u001b[0m\u001b[0;34m\u001b[0m\u001b[0m\n\u001b[0m",
            "\u001b[0;31mTypeError\u001b[0m: must be str, not int"
          ]
        }
      ]
    },
    {
      "cell_type": "markdown",
      "metadata": {
        "id": "AP2OEYpruY6C",
        "colab_type": "text"
      },
      "source": [
        "### Exercícios de fixação"
      ]
    },
    {
      "cell_type": "markdown",
      "metadata": {
        "id": "e0Q-6IJmuY6D",
        "colab_type": "text"
      },
      "source": [
        "EF4 - Calcule o produto dos números 11 e 12."
      ]
    },
    {
      "cell_type": "code",
      "metadata": {
        "id": "VEQCARCluY6F",
        "colab_type": "code",
        "outputId": "6d651852-2461-40bc-ef1e-754085618dee",
        "colab": {
          "base_uri": "https://localhost:8080/",
          "height": 34
        }
      },
      "source": [
        "11*12"
      ],
      "execution_count": 0,
      "outputs": [
        {
          "output_type": "execute_result",
          "data": {
            "text/plain": [
              "132"
            ]
          },
          "metadata": {
            "tags": []
          },
          "execution_count": 23
        }
      ]
    },
    {
      "cell_type": "markdown",
      "metadata": {
        "id": "VtbPXDJIuY6K",
        "colab_type": "text"
      },
      "source": [
        "EF5 - Calcule o quadrado do número 16."
      ]
    },
    {
      "cell_type": "code",
      "metadata": {
        "id": "ZwX_kroIuY6L",
        "colab_type": "code",
        "outputId": "55318680-5fbd-4518-9e41-0e5267af312a",
        "colab": {
          "base_uri": "https://localhost:8080/",
          "height": 34
        }
      },
      "source": [
        "16**2"
      ],
      "execution_count": 0,
      "outputs": [
        {
          "output_type": "execute_result",
          "data": {
            "text/plain": [
              "256"
            ]
          },
          "metadata": {
            "tags": []
          },
          "execution_count": 24
        }
      ]
    },
    {
      "cell_type": "markdown",
      "metadata": {
        "id": "dtlz9wNsuY6O",
        "colab_type": "text"
      },
      "source": [
        "EF6 - Calcule a raiz quadrada de 1024."
      ]
    },
    {
      "cell_type": "code",
      "metadata": {
        "id": "L2gm9mK-uY6P",
        "colab_type": "code",
        "colab": {}
      },
      "source": [
        ""
      ],
      "execution_count": 0,
      "outputs": []
    },
    {
      "cell_type": "markdown",
      "metadata": {
        "id": "0G-mouh8uY6T",
        "colab_type": "text"
      },
      "source": [
        "### Exercícios complementares\n",
        "\n",
        "Os operadores // e % trabalham com divisão inteira. Por exemplo, dividir 15 por 10 considerando apenas número inteiros é igual a 1. O resto da divisão é igual a 15 - (10*1), ou seja, 5."
      ]
    },
    {
      "cell_type": "code",
      "metadata": {
        "scrolled": true,
        "id": "C5rY4M7muY6V",
        "colab_type": "code",
        "outputId": "cc1d39e1-8f7a-4cc4-aded-252cb77306dc",
        "colab": {
          "base_uri": "https://localhost:8080/",
          "height": 34
        }
      },
      "source": [
        "15//10"
      ],
      "execution_count": 0,
      "outputs": [
        {
          "output_type": "execute_result",
          "data": {
            "text/plain": [
              "1"
            ]
          },
          "metadata": {
            "tags": []
          },
          "execution_count": 26
        }
      ]
    },
    {
      "cell_type": "code",
      "metadata": {
        "scrolled": true,
        "id": "i0xTZ7U5uY6Y",
        "colab_type": "code",
        "outputId": "833df34d-c260-49d9-b5c4-22bb79f70c3c",
        "colab": {
          "base_uri": "https://localhost:8080/",
          "height": 34
        }
      },
      "source": [
        "15%10"
      ],
      "execution_count": 0,
      "outputs": [
        {
          "output_type": "execute_result",
          "data": {
            "text/plain": [
              "5"
            ]
          },
          "metadata": {
            "tags": []
          },
          "execution_count": 27
        }
      ]
    },
    {
      "cell_type": "markdown",
      "metadata": {
        "id": "tXa9bvehuY6f",
        "colab_type": "text"
      },
      "source": [
        "EC2 - Calcule o resto da divisão de 227 por 20."
      ]
    },
    {
      "cell_type": "code",
      "metadata": {
        "id": "zVlelFJAuY6g",
        "colab_type": "code",
        "outputId": "b3f0178f-ec75-4bda-be54-a54016b3b9e5",
        "colab": {
          "base_uri": "https://localhost:8080/",
          "height": 34
        }
      },
      "source": [
        "227%20"
      ],
      "execution_count": 0,
      "outputs": [
        {
          "output_type": "execute_result",
          "data": {
            "text/plain": [
              "7"
            ]
          },
          "metadata": {
            "tags": []
          },
          "execution_count": 28
        }
      ]
    },
    {
      "cell_type": "markdown",
      "metadata": {
        "id": "pZizLlQkuY6j",
        "colab_type": "text"
      },
      "source": [
        "# Valores, nomes e variáveis"
      ]
    },
    {
      "cell_type": "markdown",
      "metadata": {
        "id": "AWS7OiCguY6k",
        "colab_type": "text"
      },
      "source": [
        "Em Python, tanto textos como números são chamados de *valores*. \n",
        "\n",
        "Podemos nos referir a valores usando *nomes*. \n",
        "\n",
        ">Em outras linguagens, usa-se o termo **variável** em vez de nome. Vamos adotar este termo aqui por ele ser mais universal.\n",
        "\n",
        "Teste as células abaixo:"
      ]
    },
    {
      "cell_type": "code",
      "metadata": {
        "scrolled": true,
        "id": "RwMnKn6FuY6l",
        "colab_type": "code",
        "outputId": "f799c7a9-fe05-4574-e9b1-5e77f761b33e",
        "colab": {
          "base_uri": "https://localhost:8080/",
          "height": 34
        }
      },
      "source": [
        "x = 2          # qualquer coisa após o # é um comentário\n",
        "y = 5\n",
        "x + y"
      ],
      "execution_count": 0,
      "outputs": [
        {
          "output_type": "execute_result",
          "data": {
            "text/plain": [
              "7"
            ]
          },
          "metadata": {
            "tags": []
          },
          "execution_count": 29
        }
      ]
    },
    {
      "cell_type": "markdown",
      "metadata": {
        "id": "wX8zEQrQuY6p",
        "colab_type": "text"
      },
      "source": [
        "Múltiplas variáveis podem estar associadas ao mesmo valor."
      ]
    },
    {
      "cell_type": "code",
      "metadata": {
        "id": "kQk43YBNuY6q",
        "colab_type": "code",
        "outputId": "26e77616-d039-447a-9eee-65ccc4878769",
        "colab": {
          "base_uri": "https://localhost:8080/",
          "height": 34
        }
      },
      "source": [
        "x = y = 1\n",
        "y"
      ],
      "execution_count": 0,
      "outputs": [
        {
          "output_type": "execute_result",
          "data": {
            "text/plain": [
              "1"
            ]
          },
          "metadata": {
            "tags": []
          },
          "execution_count": 30
        }
      ]
    },
    {
      "cell_type": "code",
      "metadata": {
        "id": "2MJfL6anuY6t",
        "colab_type": "code",
        "outputId": "69af6fd6-b9cb-4498-8ae3-aeb79bd94185",
        "colab": {
          "base_uri": "https://localhost:8080/",
          "height": 34
        }
      },
      "source": [
        "texto = 'Este é um texto.' # textos podem ser escritos entre aspas simples\n",
        "texto"
      ],
      "execution_count": 0,
      "outputs": [
        {
          "output_type": "execute_result",
          "data": {
            "text/plain": [
              "'Este é um texto.'"
            ]
          },
          "metadata": {
            "tags": []
          },
          "execution_count": 31
        }
      ]
    },
    {
      "cell_type": "code",
      "metadata": {
        "id": "PIfzhDSeuY6x",
        "colab_type": "code",
        "outputId": "36904939-e4a9-4c59-fa1f-3df791c36cd4",
        "colab": {
          "base_uri": "https://localhost:8080/",
          "height": 34
        }
      },
      "source": [
        "outro_texto = \"Este é outro texto.\" # textos podem ser escritos entre aspas duplas\n",
        "outro_texto"
      ],
      "execution_count": 0,
      "outputs": [
        {
          "output_type": "execute_result",
          "data": {
            "text/plain": [
              "'Este é outro texto.'"
            ]
          },
          "metadata": {
            "tags": []
          },
          "execution_count": 32
        }
      ]
    },
    {
      "cell_type": "markdown",
      "metadata": {
        "id": "NlHAgbybuY62",
        "colab_type": "text"
      },
      "source": [
        "### Exercícios de fixação\n",
        "\n",
        "Para verificar que seu código está correto, lembre-se de acrescentar uma linha contendo apenas o nome da variável para visualizar o valor associado a ela."
      ]
    },
    {
      "cell_type": "markdown",
      "metadata": {
        "id": "EA29x7PLuY63",
        "colab_type": "text"
      },
      "source": [
        "EF7 - Associe uma variável `numero` ao número `10`."
      ]
    },
    {
      "cell_type": "code",
      "metadata": {
        "id": "FKaHunBcuY63",
        "colab_type": "code",
        "outputId": "69dbfaef-b5f7-4d1e-9276-9fa4c8f68e3d",
        "colab": {
          "base_uri": "https://localhost:8080/",
          "height": 34
        }
      },
      "source": [
        "numero = 10\n",
        "numero"
      ],
      "execution_count": 0,
      "outputs": [
        {
          "output_type": "execute_result",
          "data": {
            "text/plain": [
              "10"
            ]
          },
          "metadata": {
            "tags": []
          },
          "execution_count": 35
        }
      ]
    },
    {
      "cell_type": "markdown",
      "metadata": {
        "id": "ofUm7TY9uY66",
        "colab_type": "text"
      },
      "source": [
        "EF8 - Associe uma variável `nome` ao texto `Python`."
      ]
    },
    {
      "cell_type": "code",
      "metadata": {
        "id": "-JoYkaYguY66",
        "colab_type": "code",
        "outputId": "f3033ab9-689f-47ee-edf2-938f6e147d38",
        "colab": {
          "base_uri": "https://localhost:8080/",
          "height": 34
        }
      },
      "source": [
        "nome = 'Python'\n",
        "nome"
      ],
      "execution_count": 0,
      "outputs": [
        {
          "output_type": "execute_result",
          "data": {
            "text/plain": [
              "'Python'"
            ]
          },
          "metadata": {
            "tags": []
          },
          "execution_count": 36
        }
      ]
    },
    {
      "cell_type": "markdown",
      "metadata": {
        "id": "D0ngMiXxuY69",
        "colab_type": "text"
      },
      "source": [
        "EF9 - Associe uma variável `resto` ao resultado do operação de resto entre `234` e `10`."
      ]
    },
    {
      "cell_type": "code",
      "metadata": {
        "id": "qHTX_LRkuY69",
        "colab_type": "code",
        "outputId": "c3c9d2f4-ef12-4acc-bd48-1eea7d44fa6b",
        "colab": {
          "base_uri": "https://localhost:8080/",
          "height": 34
        }
      },
      "source": [
        "resto = 234%10\n",
        "resto"
      ],
      "execution_count": 0,
      "outputs": [
        {
          "output_type": "execute_result",
          "data": {
            "text/plain": [
              "4"
            ]
          },
          "metadata": {
            "tags": []
          },
          "execution_count": 38
        }
      ]
    },
    {
      "cell_type": "markdown",
      "metadata": {
        "id": "japzyGjZuY7A",
        "colab_type": "text"
      },
      "source": [
        "EF10 - Associe uma variável `k` ao valor `8`. Associe uma variável `quadrado_k` ao quadrado do valor associado à variável `k`."
      ]
    },
    {
      "cell_type": "code",
      "metadata": {
        "id": "rKgxZ9btuY7B",
        "colab_type": "code",
        "outputId": "def596bc-9861-4a98-a6c3-db189f452dcf",
        "colab": {
          "base_uri": "https://localhost:8080/",
          "height": 34
        }
      },
      "source": [
        "k = 8 \n",
        "quadrado_k = k**2\n",
        "quadrado_k"
      ],
      "execution_count": 0,
      "outputs": [
        {
          "output_type": "execute_result",
          "data": {
            "text/plain": [
              "64"
            ]
          },
          "metadata": {
            "tags": []
          },
          "execution_count": 40
        }
      ]
    },
    {
      "cell_type": "markdown",
      "metadata": {
        "id": "Mugd8ZGTuY7E",
        "colab_type": "text"
      },
      "source": [
        "EF11 - Associe uma váriavel `z` ao valor `256`. Associe uma variável `divisao_zk` ao resultado da divisão entre os valores associados às variáveis `z` e `k`."
      ]
    },
    {
      "cell_type": "code",
      "metadata": {
        "id": "8_G1-LF-uY7F",
        "colab_type": "code",
        "outputId": "815ca6c3-08d4-4e4c-963e-84a6aa3a718b",
        "colab": {
          "base_uri": "https://localhost:8080/",
          "height": 34
        }
      },
      "source": [
        "z = 256\n",
        "divisao_zk = z/k\n",
        "divisao_zk"
      ],
      "execution_count": 0,
      "outputs": [
        {
          "output_type": "execute_result",
          "data": {
            "text/plain": [
              "32.0"
            ]
          },
          "metadata": {
            "tags": []
          },
          "execution_count": 43
        }
      ]
    },
    {
      "cell_type": "markdown",
      "metadata": {
        "id": "2Aw51BjouY7L",
        "colab_type": "text"
      },
      "source": [
        "## Dados informados pelo usuário"
      ]
    },
    {
      "cell_type": "markdown",
      "metadata": {
        "id": "s__tzNJ4uY7M",
        "colab_type": "text"
      },
      "source": [
        "O procedimento `input()` solicita ao usuário dados que podem ser associados a variáveis. É possível personalizar a mensagem de solicitação, como mostrado abaixo."
      ]
    },
    {
      "cell_type": "code",
      "metadata": {
        "id": "qow-HWfYuY7N",
        "colab_type": "code",
        "outputId": "4625d92a-ce08-47cd-9f3f-54cc440bf1da",
        "colab": {
          "base_uri": "https://localhost:8080/",
          "height": 51
        }
      },
      "source": [
        "texto_usuario =  input(\"Diga um valor: \")\n",
        "texto_usuario"
      ],
      "execution_count": 0,
      "outputs": [
        {
          "output_type": "stream",
          "text": [
            "Diga um valor: 10\n"
          ],
          "name": "stdout"
        },
        {
          "output_type": "execute_result",
          "data": {
            "text/plain": [
              "'10'"
            ]
          },
          "metadata": {
            "tags": []
          },
          "execution_count": 44
        }
      ]
    },
    {
      "cell_type": "markdown",
      "metadata": {
        "id": "zLpLFvUYuY7Q",
        "colab_type": "text"
      },
      "source": [
        "Por padrão, qualquer dado passada pelo usuário será tratado como texto. Para tratá-lo como um valor numérico, você deve usar os procedimentos `int()` ou `float()`, dependendo de serem números inteiros ou reais."
      ]
    },
    {
      "cell_type": "code",
      "metadata": {
        "id": "L8Y2RCGSuY7R",
        "colab_type": "code",
        "outputId": "0312ed46-0835-4e79-dcb4-472b7cfd59b5",
        "colab": {
          "base_uri": "https://localhost:8080/",
          "height": 51
        }
      },
      "source": [
        "inteiro = int(input(\"Diga um valor inteiro: \"))\n",
        "inteiro + 1"
      ],
      "execution_count": 0,
      "outputs": [
        {
          "output_type": "stream",
          "text": [
            "Diga um valor inteiro: 4440\n"
          ],
          "name": "stdout"
        },
        {
          "output_type": "execute_result",
          "data": {
            "text/plain": [
              "4441"
            ]
          },
          "metadata": {
            "tags": []
          },
          "execution_count": 45
        }
      ]
    },
    {
      "cell_type": "code",
      "metadata": {
        "id": "1fccbjACuY7W",
        "colab_type": "code",
        "outputId": "dcb1c9b9-33c7-46ce-d294-d7ed40b114f9",
        "colab": {
          "base_uri": "https://localhost:8080/",
          "height": 51
        }
      },
      "source": [
        "real = float(input(\"Diga um valor real: \"))\n",
        "real + 1"
      ],
      "execution_count": 0,
      "outputs": [
        {
          "output_type": "stream",
          "text": [
            "Diga um valor real: 1000.22\n"
          ],
          "name": "stdout"
        },
        {
          "output_type": "execute_result",
          "data": {
            "text/plain": [
              "1001.22"
            ]
          },
          "metadata": {
            "tags": []
          },
          "execution_count": 46
        }
      ]
    },
    {
      "cell_type": "markdown",
      "metadata": {
        "id": "waO5SXEtuY7a",
        "colab_type": "text"
      },
      "source": [
        "### Exercícios de fixação"
      ]
    },
    {
      "cell_type": "markdown",
      "metadata": {
        "id": "ezt7JqkuuY7b",
        "colab_type": "text"
      },
      "source": [
        "EF12 - Solicite ao usuário *seu nome* e o associe a uma variavél chamada `nome`."
      ]
    },
    {
      "cell_type": "code",
      "metadata": {
        "id": "gfoERdBKuY7b",
        "colab_type": "code",
        "outputId": "5989195f-8dc0-482e-cf35-707c2b5c37ed",
        "colab": {
          "base_uri": "https://localhost:8080/",
          "height": 51
        }
      },
      "source": [
        "nome = input(\"Diga seu nome\")\n",
        "nome"
      ],
      "execution_count": 0,
      "outputs": [
        {
          "output_type": "stream",
          "text": [
            "Diga seu nomeDavi\n"
          ],
          "name": "stdout"
        },
        {
          "output_type": "execute_result",
          "data": {
            "text/plain": [
              "'Davi'"
            ]
          },
          "metadata": {
            "tags": []
          },
          "execution_count": 47
        }
      ]
    },
    {
      "cell_type": "markdown",
      "metadata": {
        "id": "FL1p6iKQuY7e",
        "colab_type": "text"
      },
      "source": [
        "EF13 - Solicite ao usuário *sua idade* e a associe a uma variável chamada `idade`."
      ]
    },
    {
      "cell_type": "code",
      "metadata": {
        "id": "Ff4nZyxCuY7e",
        "colab_type": "code",
        "outputId": "5d630894-191c-4a2d-a118-868a52b970c8",
        "colab": {
          "base_uri": "https://localhost:8080/",
          "height": 51
        }
      },
      "source": [
        "idade = int(input(\"Diga sua idade: \"))\n",
        "idade"
      ],
      "execution_count": 0,
      "outputs": [
        {
          "output_type": "stream",
          "text": [
            "Diga sua idade: 19\n"
          ],
          "name": "stdout"
        },
        {
          "output_type": "execute_result",
          "data": {
            "text/plain": [
              "19"
            ]
          },
          "metadata": {
            "tags": []
          },
          "execution_count": 49
        }
      ]
    },
    {
      "cell_type": "markdown",
      "metadata": {
        "id": "gccLZja0uY7h",
        "colab_type": "text"
      },
      "source": [
        "EF14 - Solicite ao usuário *sua altura* e a associe a uma variável chamada `altura`."
      ]
    },
    {
      "cell_type": "code",
      "metadata": {
        "id": "OZ5U2tdYuY7i",
        "colab_type": "code",
        "outputId": "28432a42-23cf-4e4f-894a-5bb9bdc56cbc",
        "colab": {
          "base_uri": "https://localhost:8080/",
          "height": 51
        }
      },
      "source": [
        "altura = float(input(\"qual sua altura?\"))\n",
        "altura"
      ],
      "execution_count": 0,
      "outputs": [
        {
          "output_type": "stream",
          "text": [
            "qual sua altura?1.90\n"
          ],
          "name": "stdout"
        },
        {
          "output_type": "execute_result",
          "data": {
            "text/plain": [
              "1.9"
            ]
          },
          "metadata": {
            "tags": []
          },
          "execution_count": 50
        }
      ]
    },
    {
      "cell_type": "markdown",
      "metadata": {
        "id": "EvMEHEnRuY7l",
        "colab_type": "text"
      },
      "source": [
        "## Informando dados ao usuário"
      ]
    },
    {
      "cell_type": "markdown",
      "metadata": {
        "id": "Nh3IddKYuY7m",
        "colab_type": "text"
      },
      "source": [
        "Assim como é possível receber dados do usuário, também é possível informar dados ao usuário.\n",
        "\n",
        "Para isto, usamos o procedimento `print()`."
      ]
    },
    {
      "cell_type": "code",
      "metadata": {
        "id": "2nfzwlebuY7n",
        "colab_type": "code",
        "outputId": "d3abbe1e-1949-45fc-d365-ddd298725b32",
        "colab": {
          "base_uri": "https://localhost:8080/",
          "height": 34
        }
      },
      "source": [
        "print(texto)"
      ],
      "execution_count": 0,
      "outputs": [
        {
          "output_type": "stream",
          "text": [
            "Este é um texto.\n"
          ],
          "name": "stdout"
        }
      ]
    },
    {
      "cell_type": "markdown",
      "metadata": {
        "id": "23WCk_AQuY7r",
        "colab_type": "text"
      },
      "source": [
        "É possível informar os valores associados a múltiplas variáveis com uma única chamada ao procedimento `print()`. "
      ]
    },
    {
      "cell_type": "code",
      "metadata": {
        "id": "WlRFXngduY7r",
        "colab_type": "code",
        "outputId": "96d7c934-d297-4936-fa0f-d83347728690",
        "colab": {
          "base_uri": "https://localhost:8080/",
          "height": 34
        }
      },
      "source": [
        "print(texto, x)"
      ],
      "execution_count": 0,
      "outputs": [
        {
          "output_type": "stream",
          "text": [
            "Este é um texto. 1\n"
          ],
          "name": "stdout"
        }
      ]
    },
    {
      "cell_type": "markdown",
      "metadata": {
        "id": "1lqTgnzjuY7w",
        "colab_type": "text"
      },
      "source": [
        "Também é possível informar textos, valores e o resultado de expressões:"
      ]
    },
    {
      "cell_type": "code",
      "metadata": {
        "id": "cPr5G9KvuY7x",
        "colab_type": "code",
        "outputId": "eebe5c61-dbc4-4a7d-d475-81c2415ce424",
        "colab": {
          "base_uri": "https://localhost:8080/",
          "height": 34
        }
      },
      "source": [
        "print(\"Testando\", 3, x + y)"
      ],
      "execution_count": 0,
      "outputs": [
        {
          "output_type": "stream",
          "text": [
            "Testando 3 2\n"
          ],
          "name": "stdout"
        }
      ]
    },
    {
      "cell_type": "markdown",
      "metadata": {
        "id": "fEjtMqNVuY73",
        "colab_type": "text"
      },
      "source": [
        "### Exercícios de fixação"
      ]
    },
    {
      "cell_type": "markdown",
      "metadata": {
        "id": "PrIAYmt8uY74",
        "colab_type": "text"
      },
      "source": [
        "EF15 - Informe ao usuário **seu nome**."
      ]
    },
    {
      "cell_type": "code",
      "metadata": {
        "id": "SvQ2eux0uY75",
        "colab_type": "code",
        "outputId": "a6de7818-ad3f-44aa-f3d0-439fbb16d0ad",
        "colab": {
          "base_uri": "https://localhost:8080/",
          "height": 34
        }
      },
      "source": [
        "print(nome)"
      ],
      "execution_count": 0,
      "outputs": [
        {
          "output_type": "stream",
          "text": [
            "Davi\n"
          ],
          "name": "stdout"
        }
      ]
    },
    {
      "cell_type": "markdown",
      "metadata": {
        "id": "FyaWiGy5uY77",
        "colab_type": "text"
      },
      "source": [
        "EF16 - Informe ao usuário **sua idade**."
      ]
    },
    {
      "cell_type": "code",
      "metadata": {
        "id": "-SZG-IRKuY78",
        "colab_type": "code",
        "outputId": "166c13c2-2198-4684-be54-0a4112fa6782",
        "colab": {
          "base_uri": "https://localhost:8080/",
          "height": 34
        }
      },
      "source": [
        "print(idade)"
      ],
      "execution_count": 0,
      "outputs": [
        {
          "output_type": "stream",
          "text": [
            "19\n"
          ],
          "name": "stdout"
        }
      ]
    },
    {
      "cell_type": "markdown",
      "metadata": {
        "id": "7fe4ck0euY7_",
        "colab_type": "text"
      },
      "source": [
        "EF17 - Informe ao usuário **seu índice de massa corporal (IMC)**. Para isso, solicite ao usuário seu peso."
      ]
    },
    {
      "cell_type": "code",
      "metadata": {
        "id": "1p7fD8I0uY8A",
        "colab_type": "code",
        "outputId": "1bb9651f-7348-4e31-8bbd-88d1b857726d",
        "colab": {
          "base_uri": "https://localhost:8080/",
          "height": 51
        }
      },
      "source": [
        "peso = float(input(\"qual seu peso?\"))\n",
        "peso/(altura**2)"
      ],
      "execution_count": 0,
      "outputs": [
        {
          "output_type": "stream",
          "text": [
            "qual seu peso?90\n"
          ],
          "name": "stdout"
        },
        {
          "output_type": "execute_result",
          "data": {
            "text/plain": [
              "24.930747922437675"
            ]
          },
          "metadata": {
            "tags": []
          },
          "execution_count": 56
        }
      ]
    },
    {
      "cell_type": "markdown",
      "metadata": {
        "id": "LtG6tFxWuY8C",
        "colab_type": "text"
      },
      "source": [
        "## Exercícios do URI"
      ]
    },
    {
      "cell_type": "markdown",
      "metadata": {
        "id": "wnu7bYhQuY8D",
        "colab_type": "text"
      },
      "source": [
        "O URI é um juiz online utilizado em treinamentos para competições de programação.\n",
        "\n",
        "Nesta disciplina, utilizaremos exercícios inspirados na seção **Iniciante**, adaptados para o nosso contexto.\n",
        "\n",
        "Para ver a descrição do exercício em sua versão original do URI, clique no seu número."
      ]
    },
    {
      "cell_type": "markdown",
      "metadata": {
        "id": "2oz6ZuUquY8G",
        "colab_type": "text"
      },
      "source": [
        "[1008](https://www.urionlinejudge.com.br/judge/pt/problems/view/1008) - Um sistema do setor de recursos humanos de uma empresa deve calcular o salário a ser pago para cada funcionário da empresa em função de quantas horas o funcionário trabalhou no mês e de quanto ele recebe por hora trabalhada.\n",
        "\n",
        "Escreva um código Python que leia o nome de um funcionário, seu número de horas trabalhadas, o valor que recebe por hora e calcula seu salário. Em seguida, mostre o nome e o salário do funcionário."
      ]
    },
    {
      "cell_type": "markdown",
      "metadata": {
        "id": "ClWXd-RNuY8H",
        "colab_type": "text"
      },
      "source": [
        "|.| Entrada | Saída |\n",
        "|-|----|---|\n",
        "| *Exemplo 1* | João 100 5.50  | João 550.00 | \n",
        "| *Exemplo 2* | Maria 200 20.50 | Maria 4100.00 |\n",
        "| *Exemplo 3* | Facebookson 145 15.55 | Facebookson 2254.75 |"
      ]
    },
    {
      "cell_type": "code",
      "metadata": {
        "id": "S-ewi5ituY8H",
        "colab_type": "code",
        "outputId": "e5ca653b-ae09-4239-8ace-dd6aec9aa32a",
        "colab": {
          "base_uri": "https://localhost:8080/",
          "height": 34
        }
      },
      "source": [
        "\"Teste 1\""
      ],
      "execution_count": 1,
      "outputs": [
        {
          "output_type": "execute_result",
          "data": {
            "text/plain": [
              "'Teste 1'"
            ]
          },
          "metadata": {
            "tags": []
          },
          "execution_count": 1
        }
      ]
    },
    {
      "cell_type": "markdown",
      "metadata": {
        "id": "8CBeMpBBuY8J",
        "colab_type": "text"
      },
      "source": [
        "[1009](https://www.urionlinejudge.com.br/judge/pt/problems/view/1009) - No caso de empresas do setor de comércio, a remuneração mensal de cada vendedor é composta por um salário fixo mais uma bonificação proporcional às vendas efetuadas pelo vendedor naquele mês.\n",
        "\n",
        "Escreva um código Python que leia o nome de um vendedor, o seu salário fixo e o total de vendas efetuadas por ele no mês (em dinheiro). Sabendo que este vendedor ganha 15% de comissão sobre suas vendas efetuadas, informe o total que ele deverá receber no final do mês."
      ]
    },
    {
      "cell_type": "markdown",
      "metadata": {
        "id": "Rr-4Q6DAuY8K",
        "colab_type": "text"
      },
      "source": [
        "|.| Entrada | Saída |\n",
        "|-|----|---|\n",
        "| *Exemplo 1* | João 500 1230.30  | João 684.54 | \n",
        "| *Exemplo 2* | Pedro 700 0.00 | Pedro 700.00 |\n",
        "| *Exemplo 3* | Mangojata 1700 1230.50 | Mangojata 1884.58 |"
      ]
    },
    {
      "cell_type": "code",
      "metadata": {
        "id": "hLG5VCqcuY8K",
        "colab_type": "code",
        "colab": {}
      },
      "source": [
        ""
      ],
      "execution_count": 0,
      "outputs": []
    },
    {
      "cell_type": "markdown",
      "metadata": {
        "id": "V8nU9fMUuY8M",
        "colab_type": "text"
      },
      "source": [
        "[1010](https://www.urionlinejudge.com.br/judge/pt/problems/view/1010) - Outro tipo de sistema utilizado no setor de comércio é o sistema de frente de loja, que calcula o total de uma venda baseado nos itens adquiridos, suas quantidades e seus valores unitários.\n",
        "\n",
        "Escreva um código Python que leia as informações de dois produtos adquiridos em uma compra e informe o valor a ser pago. Para cada produto, leia seu código, sua quantidade e seu valor unitário."
      ]
    },
    {
      "cell_type": "markdown",
      "metadata": {
        "id": "lXJ6JITauY8N",
        "colab_type": "text"
      },
      "source": [
        "|.| Entrada | Saída |\n",
        "|-|----|---|\n",
        "| *Exemplo 1* | 12 1 5.30 <br> 16 2 5.10 | VALOR A PAGAR: 15.50 |\n",
        "| *Exemplo 2* | 13 2 15.30 <br> 161 4 5.20 | VALOR A PAGAR: 51.40 |\n",
        "| *Exemplo 3* | 1 1 15.10 <br> 2 1 15.10 | VALOR A PAGAR: 30.20 |"
      ]
    },
    {
      "cell_type": "code",
      "metadata": {
        "id": "cBw33rfzuY8N",
        "colab_type": "code",
        "colab": {}
      },
      "source": [
        ""
      ],
      "execution_count": 0,
      "outputs": []
    },
    {
      "cell_type": "markdown",
      "metadata": {
        "id": "MZYVOfzLuY8Q",
        "colab_type": "text"
      },
      "source": [
        "[1018](https://www.urionlinejudge.com.br/judge/pt/problems/view/1018) - Sistemas de frente de loja também devem auxiliar vendedores a dar trocos. Por simplicidade, vamos considerar primeiro apenas trocos inteiros, que podem ser dados usando apenas cédulas.\n",
        "\n",
        "Escreva um código Python que leia um valor de troco e informe quantas cédulas de cada valor devem ser entregues pelo vendedor ao cliente.\n",
        "\n",
        "**Obs.:** Considere que ainda existem notas de R$ 1,00."
      ]
    },
    {
      "cell_type": "markdown",
      "metadata": {
        "id": "GIrRk77LuY8R",
        "colab_type": "text"
      },
      "source": [
        "|.| Entrada | Saída |\n",
        "|-|----|---|\n",
        "| *Exemplo 1* | 576 | 5 nota(s) de 100,00 <br /> 1 nota(s) de 50,00 <br /> 1 nota(s) de 20,00 <br /> 0 nota(s) de 10,00 <br /> 1 nota(s) de 5,00  <br /> 0 nota(s) de 2,00  <br /> 1 nota(s) de 1,00 |\n",
        "| *Exemplo 2* | 11257 | 112 nota(s) de 100,00 <br /> 1 nota(s) de 50,00 <br /> 0 nota(s) de 20,00 <br /> 0 nota(s) de 10,00 <br /> 1 nota(s) de 5,00 <br /> 1 nota(s) de 2,00 <br /> 0 nota(s) de 1,00 |\n",
        "| *Exemplo 3* | 503 | 5 nota(s) de 100,00 <br /> 0 nota(s) de 50,00 <br /> 0 nota(s) de 20,00 <br /> 0 nota(s) de 10,00 <br /> 0 nota(s) de 5,00 <br /> 1 nota(s) de 2,00 <br /> 1 nota(s) de 1,00 |"
      ]
    },
    {
      "cell_type": "code",
      "metadata": {
        "scrolled": true,
        "id": "2nIoKTYkuY8R",
        "colab_type": "code",
        "colab": {}
      },
      "source": [
        ""
      ],
      "execution_count": 0,
      "outputs": []
    },
    {
      "cell_type": "markdown",
      "metadata": {
        "id": "apJmnje7uY8T",
        "colab_type": "text"
      },
      "source": [
        "[1021](https://www.urionlinejudge.com.br/judge/pt/problems/view/1021) - Agora vamos voltar ao mundo real, onde trocos podem precisar utilizar cédulas e moedas.\n",
        "\n",
        "Escreva um código Python que leia um valor de troco e informe quantas cédulas e moedas de cada valor devem ser entregues pelo vendedor ao cliente.\n",
        "\n",
        "**Obs.:** Considere que ainda existem moedas de R$ 0,01."
      ]
    },
    {
      "cell_type": "markdown",
      "metadata": {
        "id": "4Us2hS8GuY8T",
        "colab_type": "text"
      },
      "source": [
        "|.| Entrada | Saída |\n",
        "|-|----|---|\n",
        "| *Exemplo 1* | 576.73 | NOTAS: <br /> 5 nota(s) de 100,00 <br /> 1 nota(s) de 50,00 <br /> 1 nota(s) de 20,00 <br /> 0 nota(s) de 10,00 <br /> 1 nota(s) de 5,00  <br /> 0 nota(s) de 2,00  <br /> MOEDAS: <br /> 1 moeda(s) de 1,00 <br /> 1 moeda(s) de 0,50 <br /> 0 moeda(s) de 0,25 <br /> 2 moeda(s) de 0,10 <br /> 0 moeda(s) de 0,05 <br /> 3 moeda(s) de 0,01 |\n",
        "| *Exemplo 2* | 4.00 | NOTAS: <br /> 0 nota(s) de 100,00 <br /> 0 nota(s) de 50,00 <br /> 0 nota(s) de 20,00 <br /> 0 nota(s) de 10,00 <br /> 0 nota(s) de 5,00  <br /> 2 nota(s) de 2,00 <br /> MOEDAS: <br /> 0 moeda(s) de 1,00 <br /> 0 moeda(s) de 0,50 <br /> 0 moeda(s) de 0,25 <br /> 0 moeda(s) de 0,10 <br /> 0 moeda(s) de 0,05 <br /> 0 moeda(s) de 0,01 |\n",
        "| *Exemplo 3* | 91.01 | NOTAS: <br /> 0 nota(s) de 100,00 <br /> 1 nota(s) de 50,00 <br /> 2 nota(s) de 20,00 <br /> 0 nota(s) de 10,00 <br /> 0 nota(s) de 5,00  <br /> 0 nota(s) de 2,00 <br /> MOEDAS: <br /> 1 moeda(s) de 1,00 <br /> 0 moeda(s) de 0,50 <br /> 0 moeda(s) de 0,25 <br /> 0 moeda(s) de 0,10 <br /> 0 moeda(s) de 0,05 <br /> 1 moeda(s) de 0,01 |"
      ]
    },
    {
      "cell_type": "code",
      "metadata": {
        "id": "zqD6RG3UuY8U",
        "colab_type": "code",
        "colab": {}
      },
      "source": [
        ""
      ],
      "execution_count": 0,
      "outputs": []
    },
    {
      "cell_type": "markdown",
      "metadata": {
        "id": "3tQqPQVduY8W",
        "colab_type": "text"
      },
      "source": [
        "[1019](https://www.urionlinejudge.com.br/judge/pt/problems/view/1019) - Sistemas de frente de loja também precisam registrar a data e o horário das vendas. \n",
        "\n",
        "Computadores normalmente armazenam datas utilizando uma única unidade de tempo, convertendo para o formato de apresentação desejado quando necessário. Por simplicidade, considere neste exercício que o dado informado representa apenas o horário da venda.\n",
        "\n",
        "Escreva um código Python que leia um valor em segundos e o converta para o formato *horas:minutos:segundos*.\n",
        "\n",
        "**Dica 1 --** a opção sep do procedimento print() permite configurar o caracter de separação entre as diferentes partes de uma impressão, como no exemplo abaixo."
      ]
    },
    {
      "cell_type": "code",
      "metadata": {
        "scrolled": true,
        "id": "NWTzC1vAuY8Z",
        "colab_type": "code",
        "colab": {}
      },
      "source": [
        "print(10,33,51,sep=\":\")"
      ],
      "execution_count": 0,
      "outputs": []
    },
    {
      "cell_type": "markdown",
      "metadata": {
        "id": "YxODYUMauY8a",
        "colab_type": "text"
      },
      "source": [
        "**Dica 2 --** é possível utilizar o procedimento print para impressão formatada. Pesquise o funcionamento da máscara de formatação abaixo:"
      ]
    },
    {
      "cell_type": "code",
      "metadata": {
        "id": "zidFB2ABuY8b",
        "colab_type": "code",
        "colab": {}
      },
      "source": [
        "print(\"%02d:%02d:%02d\" % (9,33,51))"
      ],
      "execution_count": 0,
      "outputs": []
    },
    {
      "cell_type": "markdown",
      "metadata": {
        "id": "Ws97Yuj_uY8f",
        "colab_type": "text"
      },
      "source": [
        "|.| Entrada | Saída |\n",
        "|-|----|---|\n",
        "| *Exemplo 1* | 556  | 00:09:16 | \n",
        "| *Exemplo 2* | 1 | 00:00:01 |\n",
        "| *Exemplo 3* | 86153 | 23:55:53 |"
      ]
    }
  ]
}